{
 "cells": [
  {
   "cell_type": "code",
   "execution_count": 1,
   "metadata": {
    "collapsed": true
   },
   "outputs": [],
   "source": [
    "from baselines import logger"
   ]
  },
  {
   "cell_type": "code",
   "execution_count": 2,
   "metadata": {
    "collapsed": true
   },
   "outputs": [],
   "source": [
    "dir = '/home/danielpc/Desktop/NewHome'\n",
    "fname = 'progress.json'"
   ]
  },
  {
   "cell_type": "code",
   "execution_count": 4,
   "metadata": {},
   "outputs": [
    {
     "name": "stdout",
     "output_type": "stream",
     "text": [
      "Loading progress from: /home/danielpc/Desktop/NewHome\n"
     ]
    }
   ],
   "source": [
    "gg = logger.load_progress(dir,fname)"
   ]
  },
  {
   "cell_type": "code",
   "execution_count": 5,
   "metadata": {},
   "outputs": [
    {
     "data": {
      "text/plain": [
       "[{'eval/Q': -42.98113116979599,\n",
       "  'eval/episodes': 0.0,\n",
       "  'eval/return': 0.0,\n",
       "  'eval/return_history': nan,\n",
       "  'obs_rms_mean': 0.31000277400016785,\n",
       "  'obs_rms_std': 0.9313774108886719,\n",
       "  'param_noise_stddev': 0.12160776493778987,\n",
       "  'reference_Q_mean': -46.9798583984375,\n",
       "  'reference_Q_std': 71.10174560546875,\n",
       "  'reference_action_mean': -0.4959290623664856,\n",
       "  'reference_action_std': 0.7458164691925049,\n",
       "  'reference_actor_Q_mean': -46.858360290527344,\n",
       "  'reference_actor_Q_std': 71.16929626464844,\n",
       "  'reference_perturbed_action_mean': -0.4953801929950714,\n",
       "  'reference_perturbed_action_std': 0.6967498660087585,\n",
       "  'rollout/Q_mean': -36.84579167604446,\n",
       "  'rollout/actions_mean': -0.36321311693638564,\n",
       "  'rollout/actions_std': 0.7395669252651402,\n",
       "  'rollout/episode_steps': 0.0,\n",
       "  'rollout/episodes': 0.0,\n",
       "  'rollout/return': 0.0,\n",
       "  'rollout/return_history': nan,\n",
       "  'total/duration': 1.5185651779174805,\n",
       "  'total/episodes': 0.0,\n",
       "  'total/epochs': 1,\n",
       "  'total/steps': 100,\n",
       "  'total/steps_per_second': 65.85163511857773,\n",
       "  'train/loss_actor': 36.740083084106445,\n",
       "  'train/loss_critic': 1.5504323387145995,\n",
       "  'train/param_noise_distance': 1.0356330078840257},\n",
       " {'eval/Q': 2.535384488105774,\n",
       "  'eval/episodes': 1.0,\n",
       "  'eval/return': -9.72006924264231,\n",
       "  'eval/return_history': -9.72006924264231,\n",
       "  'obs_rms_mean': 0.31004658341407776,\n",
       "  'obs_rms_std': 0.9312035441398621,\n",
       "  'param_noise_stddev': 0.07694459401832851,\n",
       "  'reference_Q_mean': -46.771881103515625,\n",
       "  'reference_Q_std': 70.79032897949219,\n",
       "  'reference_action_mean': -0.4851635694503784,\n",
       "  'reference_action_std': 0.7357453107833862,\n",
       "  'reference_actor_Q_mean': -46.614585876464844,\n",
       "  'reference_actor_Q_std': 70.83158874511719,\n",
       "  'reference_perturbed_action_mean': -0.34078001976013184,\n",
       "  'reference_perturbed_action_std': 0.8182467818260193,\n",
       "  'rollout/Q_mean': -17.141992778778075,\n",
       "  'rollout/actions_mean': -0.5656827392242849,\n",
       "  'rollout/actions_std': 0.5700031240407047,\n",
       "  'rollout/episode_steps': 200.0,\n",
       "  'rollout/episodes': 1.0,\n",
       "  'rollout/return': -273.23143019494125,\n",
       "  'rollout/return_history': -273.23143019494125,\n",
       "  'total/duration': 3.4674158096313477,\n",
       "  'total/episodes': 1.0,\n",
       "  'total/epochs': 2,\n",
       "  'total/steps': 200,\n",
       "  'total/steps_per_second': 57.67984313980036,\n",
       "  'train/loss_actor': 16.67669627428055,\n",
       "  'train/loss_critic': 1.241476764678955,\n",
       "  'train/param_noise_distance': 0.7454330760240555},\n",
       " {'eval/Q': -13.069544093608856,\n",
       "  'eval/episodes': 0.0,\n",
       "  'eval/return': 0.0,\n",
       "  'eval/return_history': -9.72006924264231,\n",
       "  'obs_rms_mean': 0.31070712208747864,\n",
       "  'obs_rms_std': 0.9324396252632141,\n",
       "  'param_noise_stddev': 0.046785300513072836,\n",
       "  'reference_Q_mean': -46.74577331542969,\n",
       "  'reference_Q_std': 70.56238555908203,\n",
       "  'reference_action_mean': -0.44669049978256226,\n",
       "  'reference_action_std': 0.7848390936851501,\n",
       "  'reference_actor_Q_mean': -46.58123016357422,\n",
       "  'reference_actor_Q_std': 70.49100494384766,\n",
       "  'reference_perturbed_action_mean': -0.3407382667064667,\n",
       "  'reference_perturbed_action_std': 0.818261981010437,\n",
       "  'rollout/Q_mean': -36.55143725077311,\n",
       "  'rollout/actions_mean': -0.3567820125631988,\n",
       "  'rollout/actions_std': 0.7311122172772428,\n",
       "  'rollout/episode_steps': 200.0,\n",
       "  'rollout/episodes': 1.0,\n",
       "  'rollout/return': -273.23143019494125,\n",
       "  'rollout/return_history': -273.23143019494125,\n",
       "  'total/duration': 4.868100881576538,\n",
       "  'total/episodes': 1.0,\n",
       "  'total/epochs': 3,\n",
       "  'total/steps': 300,\n",
       "  'total/steps_per_second': 61.62567442580294,\n",
       "  'train/loss_actor': 38.25570777893066,\n",
       "  'train/loss_critic': 2.8020095157623293,\n",
       "  'train/param_noise_distance': 0.6183108472824097}]"
      ]
     },
     "execution_count": 5,
     "metadata": {},
     "output_type": "execute_result"
    }
   ],
   "source": [
    "gg"
   ]
  },
  {
   "cell_type": "code",
   "execution_count": 6,
   "metadata": {},
   "outputs": [
    {
     "name": "stdout",
     "output_type": "stream",
     "text": [
      "Logging to /home/danielpc/Desktop/NewHome\n"
     ]
    }
   ],
   "source": [
    "logger.configure(dir)"
   ]
  },
  {
   "cell_type": "code",
   "execution_count": 7,
   "metadata": {},
   "outputs": [
    {
     "name": "stdout",
     "output_type": "stream",
     "text": [
      "--------------------------------------\n",
      "| eval/Q                  | -43      |\n",
      "| eval/episodes           | 0        |\n",
      "| eval/return             | 0        |\n",
      "| eval/return_history     | nan      |\n",
      "| obs_rms_mean            | 0.31     |\n",
      "| obs_rms_std             | 0.931    |\n",
      "| param_noise_stddev      | 0.122    |\n",
      "| reference_Q_mean        | -47      |\n",
      "| reference_Q_std         | 71.1     |\n",
      "| reference_action_mean   | -0.496   |\n",
      "| reference_action_std    | 0.746    |\n",
      "| reference_actor_Q_mean  | -46.9    |\n",
      "| reference_actor_Q_std   | 71.2     |\n",
      "| reference_perturbed_... | 0.697    |\n",
      "| rollout/Q_mean          | -36.8    |\n",
      "| rollout/actions_mean    | -0.363   |\n",
      "| rollout/actions_std     | 0.74     |\n",
      "| rollout/episode_steps   | 0        |\n",
      "| rollout/episodes        | 0        |\n",
      "| rollout/return          | 0        |\n",
      "| rollout/return_history  | nan      |\n",
      "| total/duration          | 1.52     |\n",
      "| total/episodes          | 0        |\n",
      "| total/epochs            | 1        |\n",
      "| total/steps             | 100      |\n",
      "| total/steps_per_second  | 65.9     |\n",
      "| train/loss_actor        | 36.7     |\n",
      "| train/loss_critic       | 1.55     |\n",
      "| train/param_noise_di... | 1.04     |\n",
      "--------------------------------------\n",
      "\n",
      "--------------------------------------\n",
      "| eval/Q                  | 2.54     |\n",
      "| eval/episodes           | 1        |\n",
      "| eval/return             | -9.72    |\n",
      "| eval/return_history     | -9.72    |\n",
      "| obs_rms_mean            | 0.31     |\n",
      "| obs_rms_std             | 0.931    |\n",
      "| param_noise_stddev      | 0.0769   |\n",
      "| reference_Q_mean        | -46.8    |\n",
      "| reference_Q_std         | 70.8     |\n",
      "| reference_action_mean   | -0.485   |\n",
      "| reference_action_std    | 0.736    |\n",
      "| reference_actor_Q_mean  | -46.6    |\n",
      "| reference_actor_Q_std   | 70.8     |\n",
      "| reference_perturbed_... | 0.818    |\n",
      "| rollout/Q_mean          | -17.1    |\n",
      "| rollout/actions_mean    | -0.566   |\n",
      "| rollout/actions_std     | 0.57     |\n",
      "| rollout/episode_steps   | 200      |\n",
      "| rollout/episodes        | 1        |\n",
      "| rollout/return          | -273     |\n",
      "| rollout/return_history  | -273     |\n",
      "| total/duration          | 3.47     |\n",
      "| total/episodes          | 1        |\n",
      "| total/epochs            | 2        |\n",
      "| total/steps             | 200      |\n",
      "| total/steps_per_second  | 57.7     |\n",
      "| train/loss_actor        | 16.7     |\n",
      "| train/loss_critic       | 1.24     |\n",
      "| train/param_noise_di... | 0.745    |\n",
      "--------------------------------------\n",
      "\n",
      "--------------------------------------\n",
      "| eval/Q                  | -13.1    |\n",
      "| eval/episodes           | 0        |\n",
      "| eval/return             | 0        |\n",
      "| eval/return_history     | -9.72    |\n",
      "| obs_rms_mean            | 0.311    |\n",
      "| obs_rms_std             | 0.932    |\n",
      "| param_noise_stddev      | 0.0468   |\n",
      "| reference_Q_mean        | -46.7    |\n",
      "| reference_Q_std         | 70.6     |\n",
      "| reference_action_mean   | -0.447   |\n",
      "| reference_action_std    | 0.785    |\n",
      "| reference_actor_Q_mean  | -46.6    |\n",
      "| reference_actor_Q_std   | 70.5     |\n",
      "| reference_perturbed_... | 0.818    |\n",
      "| rollout/Q_mean          | -36.6    |\n",
      "| rollout/actions_mean    | -0.357   |\n",
      "| rollout/actions_std     | 0.731    |\n",
      "| rollout/episode_steps   | 200      |\n",
      "| rollout/episodes        | 1        |\n",
      "| rollout/return          | -273     |\n",
      "| rollout/return_history  | -273     |\n",
      "| total/duration          | 4.87     |\n",
      "| total/episodes          | 1        |\n",
      "| total/epochs            | 3        |\n",
      "| total/steps             | 300      |\n",
      "| total/steps_per_second  | 61.6     |\n",
      "| train/loss_actor        | 38.3     |\n",
      "| train/loss_critic       | 2.8      |\n",
      "| train/param_noise_di... | 0.618    |\n",
      "--------------------------------------\n",
      "\n",
      "Writing progress in: /home/danielpc/Desktop/NewHome\n"
     ]
    }
   ],
   "source": [
    "logger.write_progress(gg)"
   ]
  },
  {
   "cell_type": "code",
   "execution_count": null,
   "metadata": {
    "collapsed": true
   },
   "outputs": [],
   "source": []
  },
  {
   "cell_type": "code",
   "execution_count": null,
   "metadata": {
    "collapsed": true
   },
   "outputs": [],
   "source": []
  }
 ],
 "metadata": {
  "kernelspec": {
   "display_name": "Python [conda env:gym_lab]",
   "language": "python",
   "name": "conda-env-gym_lab-py"
  },
  "language_info": {
   "codemirror_mode": {
    "name": "ipython",
    "version": 3
   },
   "file_extension": ".py",
   "mimetype": "text/x-python",
   "name": "python",
   "nbconvert_exporter": "python",
   "pygments_lexer": "ipython3",
   "version": "3.6.2"
  }
 },
 "nbformat": 4,
 "nbformat_minor": 2
}
