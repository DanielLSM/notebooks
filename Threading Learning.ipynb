{
 "cells": [
  {
   "cell_type": "code",
   "execution_count": 46,
   "metadata": {},
   "outputs": [
    {
     "data": {
      "text/plain": [
       "[<_MainThread(MainThread, started 140680070706944)>,\n",
       " <Thread(Thread-2, started daemon 140679888209664)>,\n",
       " <Heartbeat(Thread-3, started daemon 140679879816960)>,\n",
       " <HistorySavingThread(IPythonHistorySavingThread, started 140679854638848)>,\n",
       " <ParentPollerUnix(Thread-1, started daemon 140679506294528)>]"
      ]
     },
     "execution_count": 46,
     "metadata": {},
     "output_type": "execute_result"
    }
   ],
   "source": [
    "import threading\n",
    "import time\n",
    "exitFlag = 0\n",
    "threading.enumerate()"
   ]
  },
  {
   "cell_type": "code",
   "execution_count": 79,
   "metadata": {
    "collapsed": true
   },
   "outputs": [],
   "source": [
    "class computational_farm(threading.Thread):\n",
    "    def __init__(self,name,*args):\n",
    "        threading.Thread.__init__(self)\n",
    "        self.name = name\n",
    "        self.argumento1 = args[0]\n",
    "        self.argumento2 = args[1]\n",
    "    def run(self):\n",
    "      print(\"Starting \" + self.argumento1)\n",
    "      print_time(self.name, 2, 2)\n",
    "      print(\"Exiting \" + self.argumento2)\n",
    "    \n",
    "def print_time(thread_name,delay,counter):\n",
    "    while counter:\n",
    "        if exitFlag:\n",
    "            thread_name.exit()\n",
    "        time.sleep(delay)\n",
    "        print(\"%s: %s\" %(thread_name, time.ctime(time.time())))\n",
    "        counter -= 1"
   ]
  },
  {
   "cell_type": "code",
   "execution_count": 85,
   "metadata": {
    "collapsed": true
   },
   "outputs": [],
   "source": [
    "thread1 = computational_farm(\"I'm first!\", 'sou a thread 1', 'sou a thread 1')\n",
    "thread2 = computational_farm(\"I'm second!\", 'sou a thread 2', 'sou a thread 2')"
   ]
  },
  {
   "cell_type": "code",
   "execution_count": 51,
   "metadata": {
    "collapsed": true
   },
   "outputs": [],
   "source": [
    "thread1_args = [2,3]\n",
    "thread2_args = [2,3]"
   ]
  },
  {
   "cell_type": "code",
   "execution_count": 86,
   "metadata": {},
   "outputs": [
    {
     "name": "stdout",
     "output_type": "stream",
     "text": [
      "Starting sou a thread 1Starting sou a thread 2\n",
      "\n",
      "I'm second!: Tue Aug 29 03:34:58 2017\n",
      "I'm first!: Tue Aug 29 03:34:58 2017\n",
      "I'm second!: Tue Aug 29 03:35:00 2017\n",
      "Exiting sou a thread 2\n",
      "I'm first!: Tue Aug 29 03:35:00 2017Exiting Main Thread\n",
      "\n",
      "Exiting sou a thread 1\n"
     ]
    }
   ],
   "source": [
    "# Start new Threads\n",
    "thread1.start()\n",
    "thread2.start()\n",
    "thread1.join()\n",
    "thread2.join()\n",
    "print (\"Exiting Main Thread\")"
   ]
  },
  {
   "cell_type": "code",
   "execution_count": 77,
   "metadata": {},
   "outputs": [
    {
     "data": {
      "text/plain": [
       "[<_MainThread(MainThread, started 140680070706944)>,\n",
       " <Thread(Thread-2, started daemon 140679888209664)>,\n",
       " <Heartbeat(Thread-3, started daemon 140679879816960)>,\n",
       " <HistorySavingThread(IPythonHistorySavingThread, started 140679854638848)>,\n",
       " <ParentPollerUnix(Thread-1, started daemon 140679506294528)>]"
      ]
     },
     "execution_count": 77,
     "metadata": {},
     "output_type": "execute_result"
    }
   ],
   "source": [
    "threading.enumerate()"
   ]
  },
  {
   "cell_type": "code",
   "execution_count": 73,
   "metadata": {},
   "outputs": [
    {
     "data": {
      "text/plain": [
       "False"
      ]
     },
     "execution_count": 73,
     "metadata": {},
     "output_type": "execute_result"
    }
   ],
   "source": [
    "thread1.is_alive()"
   ]
  },
  {
   "cell_type": "code",
   "execution_count": 75,
   "metadata": {},
   "outputs": [
    {
     "data": {
      "text/plain": [
       "False"
      ]
     },
     "execution_count": 75,
     "metadata": {},
     "output_type": "execute_result"
    }
   ],
   "source": [
    "thread2.isAlive()"
   ]
  },
  {
   "cell_type": "code",
   "execution_count": 87,
   "metadata": {
    "collapsed": true
   },
   "outputs": [],
   "source": [
    "Lock = threading.Lock()\n",
    "threads = []"
   ]
  },
  {
   "cell_type": "code",
   "execution_count": null,
   "metadata": {
    "collapsed": true
   },
   "outputs": [],
   "source": []
  },
  {
   "cell_type": "code",
   "execution_count": null,
   "metadata": {
    "collapsed": true
   },
   "outputs": [],
   "source": []
  }
 ],
 "metadata": {
  "kernelspec": {
   "display_name": "Python [conda env:NIPS_FINAL]",
   "language": "python",
   "name": "conda-env-NIPS_FINAL-py"
  },
  "language_info": {
   "codemirror_mode": {
    "name": "ipython",
    "version": 3
   },
   "file_extension": ".py",
   "mimetype": "text/x-python",
   "name": "python",
   "nbconvert_exporter": "python",
   "pygments_lexer": "ipython3",
   "version": "3.6.2"
  }
 },
 "nbformat": 4,
 "nbformat_minor": 2
}
