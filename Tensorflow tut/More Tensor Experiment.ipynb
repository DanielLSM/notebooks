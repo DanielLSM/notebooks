{
 "cells": [
  {
   "cell_type": "code",
   "execution_count": null,
   "metadata": {
    "collapsed": true
   },
   "outputs": [],
   "source": [
    "import tensorflow as tf"
   ]
  },
  {
   "cell_type": "code",
   "execution_count": 7,
   "metadata": {},
   "outputs": [],
   "source": [
    "'''A complete DDPG agent, everything running on tensorflow should just run \n",
    "in this class for sanity and simplicity. Moreoever, every variable and\n",
    "hyperparameter should be stored within the tensorflow graph to grant\n",
    "increased performance'''\n",
    "#agent=DDPG_agent(something,something)....\n",
    "class DDPG_agent(object):\n",
    "    import tensorflow as tf\n",
    "    def __init__(self,alpha):\n",
    "        self.alpha =tf.constant(alpha, name=\"alpha\")\n",
    "        #self.replay_memory = \n",
    "    def actor(self,input_observation):\n",
    "        pass\n",
    "    \n",
    "    def critic(self):\n",
    "        pass\n",
    "    \n",
    "    def target_actor(self):\n",
    "        pass\n",
    "    \n",
    "    def target_critic(self):\n",
    "        pass\n",
    "    \n",
    "    def update_targets(self):\n",
    "        pass\n",
    "    \n",
    "    def prepare_train_graph_ops(self):\n",
    "        pass\n",
    "        #return something1,something2\n",
    "    \n",
    "    def train(self):\n",
    "        #batch something self.replay_memory.batch\n",
    "        #feed some dict to a node on the graph\n",
    "        pass\n",
    "        \n",
    "    def load_agent(self):\n",
    "        pass\n",
    "    \n",
    "    def save_agent(self):\n",
    "        pass\n",
    "    \n",
    "    def load_hyper_parameters(self):\n",
    "        pass\n",
    "    \n",
    "    def save_hyper_parameters(self):\n",
    "        pass\n",
    "    \n",
    "    def get_action(self,observation):\n",
    "        #feed dict into actor, return action\n",
    "        pass\n",
    "    "
   ]
  },
  {
   "cell_type": "code",
   "execution_count": null,
   "metadata": {
    "collapsed": true
   },
   "outputs": [],
   "source": []
  }
 ],
 "metadata": {
  "kernelspec": {
   "display_name": "Python [conda env:ctmakro]",
   "language": "python",
   "name": "conda-env-ctmakro-py"
  },
  "language_info": {
   "codemirror_mode": {
    "name": "ipython",
    "version": 3
   },
   "file_extension": ".py",
   "mimetype": "text/x-python",
   "name": "python",
   "nbconvert_exporter": "python",
   "pygments_lexer": "ipython3",
   "version": "3.6.2"
  }
 },
 "nbformat": 4,
 "nbformat_minor": 2
}
