{
 "cells": [
  {
   "cell_type": "code",
   "execution_count": 1,
   "metadata": {
    "scrolled": true
   },
   "outputs": [
    {
     "data": {
      "text/plain": [
       "0.9"
      ]
     },
     "execution_count": 1,
     "metadata": {},
     "output_type": "execute_result"
    }
   ],
   "source": [
    "from DDPG import DDPG_agent as agt\n",
    "from canton.misc import get_session\n",
    "import tensorflow as tf\n",
    "agent = agt()\n",
    "agent.alpha"
   ]
  },
  {
   "cell_type": "code",
   "execution_count": 6,
   "metadata": {},
   "outputs": [
    {
     "data": {
      "text/plain": [
       "1000000"
      ]
     },
     "execution_count": 6,
     "metadata": {},
     "output_type": "execute_result"
    }
   ],
   "source": [
    "agent.memory_replay."
   ]
  },
  {
   "cell_type": "code",
   "execution_count": 3,
   "metadata": {
    "scrolled": true
   },
   "outputs": [
    {
     "ename": "TypeError",
     "evalue": "'float' object cannot be interpreted as an integer",
     "output_type": "error",
     "traceback": [
      "\u001b[0;31m---------------------------------------------------------------------------\u001b[0m",
      "\u001b[0;31mTypeError\u001b[0m                                 Traceback (most recent call last)",
      "\u001b[0;32m<ipython-input-3-31b2945fd5fa>\u001b[0m in \u001b[0;36m<module>\u001b[0;34m()\u001b[0m\n\u001b[1;32m      1\u001b[0m \u001b[0;32mfrom\u001b[0m \u001b[0mbaselines\u001b[0m\u001b[0;34m.\u001b[0m\u001b[0mddpg\u001b[0m\u001b[0;34m.\u001b[0m\u001b[0mmemoryNIPS\u001b[0m \u001b[0;32mimport\u001b[0m \u001b[0mMemory\u001b[0m\u001b[0;34m\u001b[0m\u001b[0m\n\u001b[0;32m----> 2\u001b[0;31m \u001b[0mmem\u001b[0m \u001b[0;34m=\u001b[0m \u001b[0mMemory\u001b[0m\u001b[0;34m(\u001b[0m\u001b[0;36m1e6\u001b[0m\u001b[0;34m,\u001b[0m\u001b[0;34m(\u001b[0m\u001b[0;36m2\u001b[0m\u001b[0;34m,\u001b[0m\u001b[0;34m)\u001b[0m\u001b[0;34m,\u001b[0m\u001b[0;34m(\u001b[0m\u001b[0;36m2\u001b[0m\u001b[0;34m,\u001b[0m\u001b[0;34m)\u001b[0m\u001b[0;34m)\u001b[0m\u001b[0;34m\u001b[0m\u001b[0m\n\u001b[0m",
      "\u001b[0;32m~/anaconda3/envs/ctmakro/lib/python3.6/site-packages/baselines/ddpg/memoryNIPS.py\u001b[0m in \u001b[0;36m__init__\u001b[0;34m(self, limit, action_shape, observation_shape)\u001b[0m\n\u001b[1;32m     45\u001b[0m         \u001b[0mself\u001b[0m\u001b[0;34m.\u001b[0m\u001b[0mlimit\u001b[0m \u001b[0;34m=\u001b[0m \u001b[0mlimit\u001b[0m\u001b[0;34m\u001b[0m\u001b[0m\n\u001b[1;32m     46\u001b[0m \u001b[0;34m\u001b[0m\u001b[0m\n\u001b[0;32m---> 47\u001b[0;31m         \u001b[0mself\u001b[0m\u001b[0;34m.\u001b[0m\u001b[0mobservations0\u001b[0m \u001b[0;34m=\u001b[0m \u001b[0mRingBuffer\u001b[0m\u001b[0;34m(\u001b[0m\u001b[0mlimit\u001b[0m\u001b[0;34m,\u001b[0m \u001b[0mshape\u001b[0m\u001b[0;34m=\u001b[0m\u001b[0mobservation_shape\u001b[0m\u001b[0;34m)\u001b[0m\u001b[0;34m\u001b[0m\u001b[0m\n\u001b[0m\u001b[1;32m     48\u001b[0m         \u001b[0mself\u001b[0m\u001b[0;34m.\u001b[0m\u001b[0mactions\u001b[0m \u001b[0;34m=\u001b[0m \u001b[0mRingBuffer\u001b[0m\u001b[0;34m(\u001b[0m\u001b[0mlimit\u001b[0m\u001b[0;34m,\u001b[0m \u001b[0mshape\u001b[0m\u001b[0;34m=\u001b[0m\u001b[0maction_shape\u001b[0m\u001b[0;34m)\u001b[0m\u001b[0;34m\u001b[0m\u001b[0m\n\u001b[1;32m     49\u001b[0m         \u001b[0mself\u001b[0m\u001b[0;34m.\u001b[0m\u001b[0mrewards\u001b[0m \u001b[0;34m=\u001b[0m \u001b[0mRingBuffer\u001b[0m\u001b[0;34m(\u001b[0m\u001b[0mlimit\u001b[0m\u001b[0;34m,\u001b[0m \u001b[0mshape\u001b[0m\u001b[0;34m=\u001b[0m\u001b[0;34m(\u001b[0m\u001b[0;36m1\u001b[0m\u001b[0;34m,\u001b[0m\u001b[0;34m)\u001b[0m\u001b[0;34m)\u001b[0m\u001b[0;34m\u001b[0m\u001b[0m\n",
      "\u001b[0;32m~/anaconda3/envs/ctmakro/lib/python3.6/site-packages/baselines/ddpg/memoryNIPS.py\u001b[0m in \u001b[0;36m__init__\u001b[0;34m(self, maxlen, shape, dtype)\u001b[0m\n\u001b[1;32m      8\u001b[0m         \u001b[0mself\u001b[0m\u001b[0;34m.\u001b[0m\u001b[0mstart\u001b[0m \u001b[0;34m=\u001b[0m \u001b[0;36m0\u001b[0m\u001b[0;34m\u001b[0m\u001b[0m\n\u001b[1;32m      9\u001b[0m         \u001b[0mself\u001b[0m\u001b[0;34m.\u001b[0m\u001b[0mlength\u001b[0m \u001b[0;34m=\u001b[0m \u001b[0;36m0\u001b[0m\u001b[0;34m\u001b[0m\u001b[0m\n\u001b[0;32m---> 10\u001b[0;31m         \u001b[0mself\u001b[0m\u001b[0;34m.\u001b[0m\u001b[0mdata\u001b[0m \u001b[0;34m=\u001b[0m \u001b[0mnp\u001b[0m\u001b[0;34m.\u001b[0m\u001b[0mzeros\u001b[0m\u001b[0;34m(\u001b[0m\u001b[0;34m(\u001b[0m\u001b[0mmaxlen\u001b[0m\u001b[0;34m,\u001b[0m\u001b[0;34m)\u001b[0m \u001b[0;34m+\u001b[0m \u001b[0mshape\u001b[0m\u001b[0;34m)\u001b[0m\u001b[0;34m.\u001b[0m\u001b[0mastype\u001b[0m\u001b[0;34m(\u001b[0m\u001b[0mdtype\u001b[0m\u001b[0;34m)\u001b[0m\u001b[0;34m\u001b[0m\u001b[0m\n\u001b[0m\u001b[1;32m     11\u001b[0m \u001b[0;34m\u001b[0m\u001b[0m\n\u001b[1;32m     12\u001b[0m     \u001b[0;32mdef\u001b[0m \u001b[0m__len__\u001b[0m\u001b[0;34m(\u001b[0m\u001b[0mself\u001b[0m\u001b[0;34m)\u001b[0m\u001b[0;34m:\u001b[0m\u001b[0;34m\u001b[0m\u001b[0m\n",
      "\u001b[0;31mTypeError\u001b[0m: 'float' object cannot be interpreted as an integer"
     ]
    }
   ],
   "source": [
    "from baselines.ddpg.memoryNIPS import Memory\n",
    "mem = Memory(1e6,(2,),(2,))"
   ]
  },
  {
   "cell_type": "code",
   "execution_count": 2,
   "metadata": {
    "scrolled": true
   },
   "outputs": [
    {
     "data": {
      "text/plain": [
       "array([[-0.00179647]], dtype=float32)"
      ]
     },
     "execution_count": 2,
     "metadata": {},
     "output_type": "execute_result"
    }
   ],
   "source": [
    "agent([1.0])"
   ]
  },
  {
   "cell_type": "code",
   "execution_count": 3,
   "metadata": {},
   "outputs": [
    {
     "data": {
      "text/plain": [
       "array([[-0.00179647]], dtype=float32)"
      ]
     },
     "execution_count": 3,
     "metadata": {},
     "output_type": "execute_result"
    }
   ],
   "source": [
    "sess=get_session()\n",
    "sess.run(agent.a_infer,feed_dict={agent.observation: [[1.0]]})"
   ]
  },
  {
   "cell_type": "code",
   "execution_count": 4,
   "metadata": {},
   "outputs": [
    {
     "data": {
      "text/plain": [
       "array([[-0.00179647]], dtype=float32)"
      ]
     },
     "execution_count": 4,
     "metadata": {},
     "output_type": "execute_result"
    }
   ],
   "source": [
    "sess=get_session()\n",
    "sess.run(agent.a2,feed_dict={agent.observation_after: [[1.0]]})"
   ]
  },
  {
   "cell_type": "code",
   "execution_count": 5,
   "metadata": {},
   "outputs": [
    {
     "data": {
      "text/plain": [
       "[None, None]"
      ]
     },
     "execution_count": 5,
     "metadata": {},
     "output_type": "execute_result"
    }
   ],
   "source": [
    "sess=get_session()\n",
    "sess.run(agent.target_init_updates)"
   ]
  },
  {
   "cell_type": "code",
   "execution_count": 10,
   "metadata": {
    "collapsed": true
   },
   "outputs": [],
   "source": [
    "agent.save_agent()"
   ]
  },
  {
   "cell_type": "code",
   "execution_count": 4,
   "metadata": {
    "scrolled": true
   },
   "outputs": [
    {
     "name": "stdout",
     "output_type": "stream",
     "text": [
      "INFO:tensorflow:Restoring parameters from /tmp/model/model\n"
     ]
    }
   ],
   "source": [
    "agent.load_agent()"
   ]
  },
  {
   "cell_type": "code",
   "execution_count": 2,
   "metadata": {
    "scrolled": true
   },
   "outputs": [
    {
     "ename": "NameError",
     "evalue": "name 'agent' is not defined",
     "output_type": "error",
     "traceback": [
      "\u001b[0;31m---------------------------------------------------------------------------\u001b[0m",
      "\u001b[0;31mNameError\u001b[0m                                 Traceback (most recent call last)",
      "\u001b[0;32m<ipython-input-2-f77963fa0f29>\u001b[0m in \u001b[0;36m<module>\u001b[0;34m()\u001b[0m\n\u001b[0;32m----> 1\u001b[0;31m \u001b[0magent\u001b[0m\u001b[0;34m.\u001b[0m\u001b[0mget_global_variables\u001b[0m\u001b[0;34m(\u001b[0m\u001b[0;34m'actor'\u001b[0m\u001b[0;34m)\u001b[0m\u001b[0;34m\u001b[0m\u001b[0m\n\u001b[0m",
      "\u001b[0;31mNameError\u001b[0m: name 'agent' is not defined"
     ]
    }
   ],
   "source": [
    "agent.get_global_variables('actor')"
   ]
  },
  {
   "cell_type": "code",
   "execution_count": 5,
   "metadata": {},
   "outputs": [
    {
     "data": {
      "text/plain": [
       "[<tf.Variable 'actor/dense/kernel:0' shape=(1, 64) dtype=float32_ref>,\n",
       " <tf.Variable 'actor/dense/bias:0' shape=(64,) dtype=float32_ref>,\n",
       " <tf.Variable 'actor/dense_1/kernel:0' shape=(64, 64) dtype=float32_ref>,\n",
       " <tf.Variable 'actor/dense_1/bias:0' shape=(64,) dtype=float32_ref>,\n",
       " <tf.Variable 'actor/dense_2/kernel:0' shape=(64, 1) dtype=float32_ref>,\n",
       " <tf.Variable 'actor/dense_2/bias:0' shape=(1,) dtype=float32_ref>]"
      ]
     },
     "execution_count": 5,
     "metadata": {},
     "output_type": "execute_result"
    }
   ],
   "source": [
    "tf.global_variables()"
   ]
  },
  {
   "cell_type": "code",
   "execution_count": 4,
   "metadata": {
    "collapsed": true
   },
   "outputs": [],
   "source": [
    "tf.reset_default_graph()"
   ]
  },
  {
   "cell_type": "code",
   "execution_count": 5,
   "metadata": {},
   "outputs": [
    {
     "data": {
      "text/plain": [
       "84"
      ]
     },
     "execution_count": 5,
     "metadata": {},
     "output_type": "execute_result"
    }
   ],
   "source": [
    "len(tf.contrib.graph_editor.get_tensors(tf.get_default_graph()))"
   ]
  },
  {
   "cell_type": "code",
   "execution_count": 6,
   "metadata": {},
   "outputs": [
    {
     "name": "stdout",
     "output_type": "stream",
     "text": [
      "[<tf.Tensor 'observation:0' shape=(?, 1) dtype=float32>, <tf.Tensor 'action:0' shape=(?, 1) dtype=float32>, <tf.Tensor 'observation_after:0' shape=(?, 1) dtype=float32>, <tf.Tensor 'rewards:0' shape=(?, 1) dtype=float32>, <tf.Tensor 'terminals1:0' shape=(?, 1) dtype=float32>, <tf.Tensor 'actor/dense/kernel/Initializer/random_uniform/shape:0' shape=(2,) dtype=int32>, <tf.Tensor 'actor/dense/kernel/Initializer/random_uniform/min:0' shape=() dtype=float32>, <tf.Tensor 'actor/dense/kernel/Initializer/random_uniform/max:0' shape=() dtype=float32>, <tf.Tensor 'actor/dense/kernel/Initializer/random_uniform/RandomUniform:0' shape=(1, 64) dtype=float32>, <tf.Tensor 'actor/dense/kernel/Initializer/random_uniform/sub:0' shape=() dtype=float32>, <tf.Tensor 'actor/dense/kernel/Initializer/random_uniform/mul:0' shape=(1, 64) dtype=float32>, <tf.Tensor 'actor/dense/kernel/Initializer/random_uniform:0' shape=(1, 64) dtype=float32>, <tf.Tensor 'actor/dense/kernel:0' shape=(1, 64) dtype=float32_ref>, <tf.Tensor 'actor/dense/kernel/Assign:0' shape=(1, 64) dtype=float32_ref>, <tf.Tensor 'actor/dense/kernel/read:0' shape=(1, 64) dtype=float32>, <tf.Tensor 'actor/dense/bias/Initializer/zeros:0' shape=(64,) dtype=float32>, <tf.Tensor 'actor/dense/bias:0' shape=(64,) dtype=float32_ref>, <tf.Tensor 'actor/dense/bias/Assign:0' shape=(64,) dtype=float32_ref>, <tf.Tensor 'actor/dense/bias/read:0' shape=(64,) dtype=float32>, <tf.Tensor 'actor/dense/MatMul:0' shape=(?, 64) dtype=float32>, <tf.Tensor 'actor/dense/BiasAdd:0' shape=(?, 64) dtype=float32>, <tf.Tensor 'actor/Relu:0' shape=(?, 64) dtype=float32>, <tf.Tensor 'actor/dense_1/kernel/Initializer/random_uniform/shape:0' shape=(2,) dtype=int32>, <tf.Tensor 'actor/dense_1/kernel/Initializer/random_uniform/min:0' shape=() dtype=float32>, <tf.Tensor 'actor/dense_1/kernel/Initializer/random_uniform/max:0' shape=() dtype=float32>, <tf.Tensor 'actor/dense_1/kernel/Initializer/random_uniform/RandomUniform:0' shape=(64, 64) dtype=float32>, <tf.Tensor 'actor/dense_1/kernel/Initializer/random_uniform/sub:0' shape=() dtype=float32>, <tf.Tensor 'actor/dense_1/kernel/Initializer/random_uniform/mul:0' shape=(64, 64) dtype=float32>, <tf.Tensor 'actor/dense_1/kernel/Initializer/random_uniform:0' shape=(64, 64) dtype=float32>, <tf.Tensor 'actor/dense_1/kernel:0' shape=(64, 64) dtype=float32_ref>, <tf.Tensor 'actor/dense_1/kernel/Assign:0' shape=(64, 64) dtype=float32_ref>, <tf.Tensor 'actor/dense_1/kernel/read:0' shape=(64, 64) dtype=float32>, <tf.Tensor 'actor/dense_1/bias/Initializer/zeros:0' shape=(64,) dtype=float32>, <tf.Tensor 'actor/dense_1/bias:0' shape=(64,) dtype=float32_ref>, <tf.Tensor 'actor/dense_1/bias/Assign:0' shape=(64,) dtype=float32_ref>, <tf.Tensor 'actor/dense_1/bias/read:0' shape=(64,) dtype=float32>, <tf.Tensor 'actor/dense_2/MatMul:0' shape=(?, 64) dtype=float32>, <tf.Tensor 'actor/dense_2/BiasAdd:0' shape=(?, 64) dtype=float32>, <tf.Tensor 'actor/Relu_1:0' shape=(?, 64) dtype=float32>, <tf.Tensor 'actor/dense_2/kernel/Initializer/random_uniform/shape:0' shape=(2,) dtype=int32>, <tf.Tensor 'actor/dense_2/kernel/Initializer/random_uniform/min:0' shape=() dtype=float32>, <tf.Tensor 'actor/dense_2/kernel/Initializer/random_uniform/max:0' shape=() dtype=float32>, <tf.Tensor 'actor/dense_2/kernel/Initializer/random_uniform/RandomUniform:0' shape=(64, 1) dtype=float32>, <tf.Tensor 'actor/dense_2/kernel/Initializer/random_uniform/sub:0' shape=() dtype=float32>, <tf.Tensor 'actor/dense_2/kernel/Initializer/random_uniform/mul:0' shape=(64, 1) dtype=float32>, <tf.Tensor 'actor/dense_2/kernel/Initializer/random_uniform:0' shape=(64, 1) dtype=float32>, <tf.Tensor 'actor/dense_2/kernel:0' shape=(64, 1) dtype=float32_ref>, <tf.Tensor 'actor/dense_2/kernel/Assign:0' shape=(64, 1) dtype=float32_ref>, <tf.Tensor 'actor/dense_2/kernel/read:0' shape=(64, 1) dtype=float32>, <tf.Tensor 'actor/dense_2/bias/Initializer/zeros:0' shape=(1,) dtype=float32>, <tf.Tensor 'actor/dense_2/bias:0' shape=(1,) dtype=float32_ref>, <tf.Tensor 'actor/dense_2/bias/Assign:0' shape=(1,) dtype=float32_ref>, <tf.Tensor 'actor/dense_2/bias/read:0' shape=(1,) dtype=float32>, <tf.Tensor 'actor/dense_3/MatMul:0' shape=(?, 1) dtype=float32>, <tf.Tensor 'actor/dense_3/BiasAdd:0' shape=(?, 1) dtype=float32>, <tf.Tensor 'actor/Tanh:0' shape=(?, 1) dtype=float32>, <tf.Tensor 'save/Const:0' shape=() dtype=string>, <tf.Tensor 'save/SaveV2/tensor_names:0' shape=(6,) dtype=string>, <tf.Tensor 'save/SaveV2/shape_and_slices:0' shape=(6,) dtype=string>, <tf.Tensor 'save/control_dependency:0' shape=() dtype=string>, <tf.Tensor 'save/RestoreV2/tensor_names:0' shape=(1,) dtype=string>, <tf.Tensor 'save/RestoreV2/shape_and_slices:0' shape=(1,) dtype=string>, <tf.Tensor 'save/RestoreV2:0' shape=<unknown> dtype=float32>, <tf.Tensor 'save/Assign:0' shape=(64,) dtype=float32_ref>, <tf.Tensor 'save/RestoreV2_1/tensor_names:0' shape=(1,) dtype=string>, <tf.Tensor 'save/RestoreV2_1/shape_and_slices:0' shape=(1,) dtype=string>, <tf.Tensor 'save/RestoreV2_1:0' shape=<unknown> dtype=float32>, <tf.Tensor 'save/Assign_1:0' shape=(1, 64) dtype=float32_ref>, <tf.Tensor 'save/RestoreV2_2/tensor_names:0' shape=(1,) dtype=string>, <tf.Tensor 'save/RestoreV2_2/shape_and_slices:0' shape=(1,) dtype=string>, <tf.Tensor 'save/RestoreV2_2:0' shape=<unknown> dtype=float32>, <tf.Tensor 'save/Assign_2:0' shape=(64,) dtype=float32_ref>, <tf.Tensor 'save/RestoreV2_3/tensor_names:0' shape=(1,) dtype=string>, <tf.Tensor 'save/RestoreV2_3/shape_and_slices:0' shape=(1,) dtype=string>, <tf.Tensor 'save/RestoreV2_3:0' shape=<unknown> dtype=float32>, <tf.Tensor 'save/Assign_3:0' shape=(64, 64) dtype=float32_ref>, <tf.Tensor 'save/RestoreV2_4/tensor_names:0' shape=(1,) dtype=string>, <tf.Tensor 'save/RestoreV2_4/shape_and_slices:0' shape=(1,) dtype=string>, <tf.Tensor 'save/RestoreV2_4:0' shape=<unknown> dtype=float32>, <tf.Tensor 'save/Assign_4:0' shape=(1,) dtype=float32_ref>, <tf.Tensor 'save/RestoreV2_5/tensor_names:0' shape=(1,) dtype=string>, <tf.Tensor 'save/RestoreV2_5/shape_and_slices:0' shape=(1,) dtype=string>, <tf.Tensor 'save/RestoreV2_5:0' shape=<unknown> dtype=float32>, <tf.Tensor 'save/Assign_5:0' shape=(64, 1) dtype=float32_ref>]\n"
     ]
    }
   ],
   "source": [
    "print(tf.contrib.graph_editor.get_tensors(tf.get_default_graph()))"
   ]
  },
  {
   "cell_type": "code",
   "execution_count": 7,
   "metadata": {},
   "outputs": [
    {
     "ename": "SyntaxError",
     "evalue": "invalid syntax (<ipython-input-7-7cf15939651b>, line 1)",
     "output_type": "error",
     "traceback": [
      "\u001b[0;36m  File \u001b[0;32m\"<ipython-input-7-7cf15939651b>\"\u001b[0;36m, line \u001b[0;32m1\u001b[0m\n\u001b[0;31m    (None,)+(,3)\u001b[0m\n\u001b[0m             ^\u001b[0m\n\u001b[0;31mSyntaxError\u001b[0m\u001b[0;31m:\u001b[0m invalid syntax\n"
     ]
    }
   ],
   "source": []
  }
 ],
 "metadata": {
  "kernelspec": {
   "display_name": "Python [conda env:ctmakro]",
   "language": "python",
   "name": "conda-env-ctmakro-py"
  },
  "language_info": {
   "codemirror_mode": {
    "name": "ipython",
    "version": 3
   },
   "file_extension": ".py",
   "mimetype": "text/x-python",
   "name": "python",
   "nbconvert_exporter": "python",
   "pygments_lexer": "ipython3",
   "version": "3.6.2"
  }
 },
 "nbformat": 4,
 "nbformat_minor": 2
}
