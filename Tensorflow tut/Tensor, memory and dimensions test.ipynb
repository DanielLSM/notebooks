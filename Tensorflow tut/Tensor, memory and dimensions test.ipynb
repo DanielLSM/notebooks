{
 "cells": [
  {
   "cell_type": "code",
   "execution_count": 1,
   "metadata": {},
   "outputs": [
    {
     "name": "stdout",
     "output_type": "stream",
     "text": [
      "agent initialized :>\n"
     ]
    }
   ],
   "source": [
    "from DDPG import DDPG_agent as agt\n",
    "from baselines.ddpg.memoryNIPS import Memory\n",
    "import tensorflow as tf\n",
    "from rpm import rpm as Rpm\n",
    "from osim.env import RunEnv\n",
    "import lolviz as lul\n",
    "agent = agt()"
   ]
  },
  {
   "cell_type": "code",
   "execution_count": 2,
   "metadata": {},
   "outputs": [],
   "source": [
    "e = RunEnv(visualize=False)\n",
    "e.reset()\n",
    "\n",
    "mem = Memory(100,e.action_space.shape,e.observation_space.shape)\n",
    "#rem = Rpm(100)"
   ]
  },
  {
   "cell_type": "code",
   "execution_count": 75,
   "metadata": {},
   "outputs": [],
   "source": [
    "observation_before, reward, done, _info=e.step(e.action_space.sample())\n",
    "action = e.action_space.sample()\n",
    "\n",
    "observation, reward, done, _info=e.step(e.action_space.sample())\n",
    "agent.feed_experience(observation_before,action,reward,observation,done)\n",
    "#tupl=(observation_before,action,reward,done,observation)"
   ]
  },
  {
   "cell_type": "code",
   "execution_count": 149,
   "metadata": {},
   "outputs": [],
   "source": [
    "#rem.add(tupl)\n",
    "agent.feed_experience(observation_before,action,reward,observation,done)"
   ]
  },
  {
   "cell_type": "code",
   "execution_count": 151,
   "metadata": {},
   "outputs": [
    {
     "data": {
      "text/plain": [
       "147"
      ]
     },
     "execution_count": 151,
     "metadata": {},
     "output_type": "execute_result"
    }
   ],
   "source": [
    "len(agent)"
   ]
  },
  {
   "cell_type": "code",
   "execution_count": 202,
   "metadata": {},
   "outputs": [
    {
     "name": "stdout",
     "output_type": "stream",
     "text": [
      "closs: 0.000005 aloss: 0.012965\r"
     ]
    }
   ],
   "source": [
    "res=agent.train()"
   ]
  },
  {
   "cell_type": "code",
   "execution_count": 14,
   "metadata": {},
   "outputs": [],
   "source": [
    "mem_sample= mem.sample(1)\n",
    "a_mem_sample=mem_sample['actions']"
   ]
  },
  {
   "cell_type": "code",
   "execution_count": 20,
   "metadata": {},
   "outputs": [
    {
     "data": {
      "text/plain": [
       "array([[ -4.02035080e-02,   4.03494202e-03,   9.10771906e-01,\n",
       "          5.20283580e-01,   2.19055265e-01,   6.85296804e-02,\n",
       "         -4.42865677e-02,   5.19308522e-02,   2.96221823e-02,\n",
       "         -3.44620161e-02,   3.34355384e-02,   3.24386619e-02,\n",
       "         -2.85387731e+00,   3.99437237e+00,  -1.85986412e+00,\n",
       "         -1.91843319e+00,   2.20279026e+00,  -1.38422680e+00,\n",
       "         -6.97920397e-02,   9.71198320e-01,  -9.17925034e-03,\n",
       "          4.78346348e-02,   5.06602414e-03,   1.53738427e+00,\n",
       "          4.03494202e-03,   9.10771906e-01,  -9.33079869e-02,\n",
       "          9.96253490e-01,   8.47027823e-03,  -2.13992950e-02,\n",
       "          8.50580540e-03,  -2.03465503e-02,  -1.21168323e-01,\n",
       "          2.36921273e-02,  -1.21394552e-01,   2.39851642e-02,\n",
       "          8.90763879e-01,   1.07782996e+00,   2.23964715e+00,\n",
       "         -3.46635189e-03,   5.25475480e-02]], dtype=float32)"
      ]
     },
     "execution_count": 20,
     "metadata": {},
     "output_type": "execute_result"
    }
   ],
   "source": [
    "mem_sample['obs0']"
   ]
  },
  {
   "cell_type": "code",
   "execution_count": 29,
   "metadata": {},
   "outputs": [
    {
     "data": {
      "text/plain": [
       "array([[  3.90540017e-03,  -1.49591229e-04,  -2.08901195e-03,\n",
       "         -1.28517551e-02,  -7.82879815e-03,  -8.56583845e-03,\n",
       "          3.38770449e-03,  -7.97529705e-03,   5.48335444e-03,\n",
       "         -3.09152086e-03,  -5.94002847e-03,  -1.45241513e-03,\n",
       "          4.17348882e-03,  -6.85488852e-03,   2.27427366e-03,\n",
       "         -6.44217618e-03,   4.23302954e-05,  -5.75224450e-03]], dtype=float32)"
      ]
     },
     "execution_count": 29,
     "metadata": {},
     "output_type": "execute_result"
    }
   ],
   "source": [
    "agent(mem_sample['obs0'])"
   ]
  },
  {
   "cell_type": "code",
   "execution_count": 11,
   "metadata": {},
   "outputs": [
    {
     "data": {
      "text/plain": [
       "2"
      ]
     },
     "execution_count": 11,
     "metadata": {},
     "output_type": "execute_result"
    }
   ],
   "source": [
    "action_batch.ndim"
   ]
  },
  {
   "cell_type": "code",
   "execution_count": null,
   "metadata": {},
   "outputs": [],
   "source": [
    "a_mem_sample.shape"
   ]
  },
  {
   "cell_type": "code",
   "execution_count": null,
   "metadata": {},
   "outputs": [],
   "source": [
    "a_mem_sample"
   ]
  },
  {
   "cell_type": "code",
   "execution_count": null,
   "metadata": {},
   "outputs": [],
   "source": [
    "a.shape"
   ]
  },
  {
   "cell_type": "code",
   "execution_count": null,
   "metadata": {},
   "outputs": [],
   "source": [
    "len(a.data)"
   ]
  },
  {
   "cell_type": "code",
   "execution_count": null,
   "metadata": {},
   "outputs": [],
   "source": [
    "rem_reshape = np.reshape(a,(1,len(a)))"
   ]
  },
  {
   "cell_type": "code",
   "execution_count": null,
   "metadata": {},
   "outputs": [],
   "source": [
    "len(rem_sample[1])"
   ]
  },
  {
   "cell_type": "code",
   "execution_count": null,
   "metadata": {},
   "outputs": [],
   "source": [
    "import numpy as np\n",
    "obs_net = np.reshape(rem_sample[1],(1,len(rem_sample[1])))"
   ]
  },
  {
   "cell_type": "code",
   "execution_count": null,
   "metadata": {},
   "outputs": [],
   "source": [
    "mem_sample"
   ]
  },
  {
   "cell_type": "code",
   "execution_count": null,
   "metadata": {},
   "outputs": [],
   "source": [
    "rem_sample"
   ]
  },
  {
   "cell_type": "code",
   "execution_count": null,
   "metadata": {},
   "outputs": [],
   "source": [
    "mem_sample['obs0']"
   ]
  }
 ],
 "metadata": {
  "kernelspec": {
   "display_name": "Python [conda env:NIPS_FINAL]",
   "language": "python",
   "name": "conda-env-NIPS_FINAL-py"
  },
  "language_info": {
   "codemirror_mode": {
    "name": "ipython",
    "version": 3
   },
   "file_extension": ".py",
   "mimetype": "text/x-python",
   "name": "python",
   "nbconvert_exporter": "python",
   "pygments_lexer": "ipython3",
   "version": "3.6.2"
  }
 },
 "nbformat": 4,
 "nbformat_minor": 2
}
