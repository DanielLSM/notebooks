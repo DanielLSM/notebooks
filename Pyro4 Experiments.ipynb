{
 "cells": [
  {
   "cell_type": "code",
   "execution_count": 2,
   "metadata": {},
   "outputs": [],
   "source": [
    "import Pyro4"
   ]
  },
  {
   "cell_type": "code",
   "execution_count": 5,
   "metadata": {},
   "outputs": [],
   "source": [
    "! mkdir -p pyro_tut"
   ]
  },
  {
   "cell_type": "code",
   "execution_count": 9,
   "metadata": {},
   "outputs": [],
   "source": [
    "! cd pyro_tut"
   ]
  },
  {
   "cell_type": "code",
   "execution_count": 10,
   "metadata": {},
   "outputs": [
    {
     "name": "stdout",
     "output_type": "stream",
     "text": [
      "DDPG Memory Tests.ipynb\r\n",
      "DDPG Models Test.ipynb\r\n",
      "environment.yml\r\n",
      "err.log\r\n",
      "Logger Advanced Tutorial.ipynb\r\n",
      "log.txt\r\n",
      "MPI Tests.ipynb\r\n",
      "MultiProcessing Tryout.ipynb\r\n",
      "My Incredible Loading Creations.ipynb\r\n",
      "NIPS17.py\r\n",
      "Obs_space.ipynb\r\n",
      "out.log\r\n",
      "Pickle of Classes.ipynb\r\n",
      "progress.json\r\n",
      "Pyro4 Experiments.ipynb\r\n",
      "pyro_tut\r\n",
      "README.md\r\n",
      "Replay Memory Test.ipynb\r\n",
      "Running NIPS2017.ipynb\r\n",
      "Sharing Variables.ipynb\r\n",
      "tb\r\n",
      "Tensor Ranks, Shapes, and Types.ipynb\r\n",
      "test.txt\r\n",
      "The args dilema.ipynb\r\n",
      "The Jar Of Pickles Tutorial.ipynb\r\n",
      "The JSON NIPS problem.ipynb\r\n",
      "The JSON utimate power guide.ipynb\r\n",
      "Thinking about NIPS problem.ipynb\r\n",
      "Threading Learning.ipynb\r\n",
      "try1.py\r\n",
      "Ultimate Logger.ipynb\r\n",
      "Variables Creation, Initialization, Saving, and Loading.ipynb\r\n"
     ]
    }
   ],
   "source": [
    "! ls"
   ]
  }
 ],
 "metadata": {
  "kernelspec": {
   "display_name": "Python [conda env:NIPS_CLOUD]",
   "language": "python",
   "name": "conda-env-NIPS_CLOUD-py"
  },
  "language_info": {
   "codemirror_mode": {
    "name": "ipython",
    "version": 3
   },
   "file_extension": ".py",
   "mimetype": "text/x-python",
   "name": "python",
   "nbconvert_exporter": "python",
   "pygments_lexer": "ipython3",
   "version": "3.6.2"
  }
 },
 "nbformat": 4,
 "nbformat_minor": 2
}
