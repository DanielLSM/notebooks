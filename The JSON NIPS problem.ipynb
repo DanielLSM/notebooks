{
 "cells": [
  {
   "cell_type": "code",
   "execution_count": 1,
   "metadata": {
    "collapsed": true
   },
   "outputs": [],
   "source": [
    "import json\n",
    "import os\n",
    "import os.path as osp\n",
    "from baselines import logger"
   ]
  },
  {
   "cell_type": "code",
   "execution_count": 2,
   "metadata": {
    "collapsed": true
   },
   "outputs": [],
   "source": [
    "path='/home/daniel/Desktop/NewHome (copy)/'\n",
    "file = 'progress.json'"
   ]
  },
  {
   "cell_type": "code",
   "execution_count": 3,
   "metadata": {
    "collapsed": true
   },
   "outputs": [],
   "source": [
    "jason_handler = open(osp.join(path,file),'r')"
   ]
  },
  {
   "cell_type": "code",
   "execution_count": 4,
   "metadata": {
    "collapsed": true
   },
   "outputs": [],
   "source": [
    "j_contents = []\n",
    "with open(osp.join(path,file),'r') as f:\n",
    "    for line in f:\n",
    "        j_content = json.loads(line)\n",
    "        j_contents.append(j_content)\n",
    "    "
   ]
  },
  {
   "cell_type": "code",
   "execution_count": 3,
   "metadata": {},
   "outputs": [
    {
     "name": "stdout",
     "output_type": "stream",
     "text": [
      "Loading progress from: /home/daniel/Desktop/NewHome (copy)/\n"
     ]
    }
   ],
   "source": [
    "m_contents = logger.load_progress(path,file)"
   ]
  },
  {
   "cell_type": "code",
   "execution_count": 4,
   "metadata": {},
   "outputs": [
    {
     "data": {
      "text/plain": [
       "[{'eval/Q': -27.780860118865967,\n",
       "  'eval/episodes': 1.0,\n",
       "  'eval/return': -771.2643739160278,\n",
       "  'eval/return_history': -741.0240365527907,\n",
       "  'obs_rms_mean': 0.14186424016952515,\n",
       "  'obs_rms_std': 1.4967010021209717,\n",
       "  'param_noise_stddev': 0.12160776493778987,\n",
       "  'reference_Q_mean': -22.321683883666992,\n",
       "  'reference_Q_std': 7.707444190979004,\n",
       "  'reference_action_mean': 0.8654117584228516,\n",
       "  'reference_action_std': 0.07662904262542725,\n",
       "  'reference_actor_Q_mean': -22.347187042236328,\n",
       "  'reference_actor_Q_std': 7.682611465454102,\n",
       "  'reference_perturbed_action_mean': 0.40201514959335327,\n",
       "  'reference_perturbed_action_std': 0.2820681035518646,\n",
       "  'rollout/Q_mean': -10.50250817373459,\n",
       "  'rollout/actions_mean': 0.3308436210723594,\n",
       "  'rollout/actions_std': 0.48208818428340133,\n",
       "  'rollout/episode_steps': 200.0,\n",
       "  'rollout/episodes': 5.0,\n",
       "  'rollout/return': -1347.586504175012,\n",
       "  'rollout/return_history': -1347.586504175012,\n",
       "  'total/duration': 6.16620659828186,\n",
       "  'total/episodes': 5.0,\n",
       "  'total/epochs': 1,\n",
       "  'total/steps': 1000,\n",
       "  'total/steps_per_second': 162.1742612838561,\n",
       "  'train/loss_actor': 22.41644790649414,\n",
       "  'train/loss_critic': 5.287480182647705,\n",
       "  'train/param_noise_distance': 0.27603532817214727},\n",
       " {'eval/Q': -57.5406562423706,\n",
       "  'eval/episodes': 1.0,\n",
       "  'eval/return': -714.0752307746914,\n",
       "  'eval/return_history': -752.0000393573009,\n",
       "  'obs_rms_mean': -0.04508587718009949,\n",
       "  'obs_rms_std': 1.6838934421539307,\n",
       "  'param_noise_stddev': 0.12160776493778987,\n",
       "  'reference_Q_mean': -48.401817321777344,\n",
       "  'reference_Q_std': 17.433523178100586,\n",
       "  'reference_action_mean': -0.9647392630577087,\n",
       "  'reference_action_std': 0.006226255092769861,\n",
       "  'reference_actor_Q_mean': -48.31101608276367,\n",
       "  'reference_actor_Q_std': 17.47745132446289,\n",
       "  'reference_perturbed_action_mean': -0.9698877930641174,\n",
       "  'reference_perturbed_action_std': 0.014110869728028774,\n",
       "  'rollout/Q_mean': -23.62750963152977,\n",
       "  'rollout/actions_mean': 0.013237514172913507,\n",
       "  'rollout/actions_std': 0.6652124229366243,\n",
       "  'rollout/episode_steps': 200.0,\n",
       "  'rollout/episodes': 10.0,\n",
       "  'rollout/return': -1431.4002681857664,\n",
       "  'rollout/return_history': -1431.4002681857664,\n",
       "  'total/duration': 12.701348304748535,\n",
       "  'total/episodes': 10.0,\n",
       "  'total/epochs': 2,\n",
       "  'total/steps': 2000,\n",
       "  'total/steps_per_second': 157.46359772310777,\n",
       "  'train/loss_actor': 51.43114028930664,\n",
       "  'train/loss_critic': 10.833907568454743,\n",
       "  'train/param_noise_distance': 0.3466684664040804},\n",
       " {'eval/Q': -72.70303318023682,\n",
       "  'eval/episodes': 1.0,\n",
       "  'eval/return': -832.3748083071479,\n",
       "  'eval/return_history': -751.9888200775512,\n",
       "  'obs_rms_mean': -0.1441066414117813,\n",
       "  'obs_rms_std': 1.822311520576477,\n",
       "  'param_noise_stddev': 0.051680078090752424,\n",
       "  'reference_Q_mean': -77.908935546875,\n",
       "  'reference_Q_std': 21.759849548339844,\n",
       "  'reference_action_mean': 0.520393967628479,\n",
       "  'reference_action_std': 0.8291853666305542,\n",
       "  'reference_actor_Q_mean': -77.29635620117188,\n",
       "  'reference_actor_Q_std': 21.936086654663086,\n",
       "  'reference_perturbed_action_mean': 0.5168837308883667,\n",
       "  'reference_perturbed_action_std': 0.7452279925346375,\n",
       "  'rollout/Q_mean': -35.653301591803846,\n",
       "  'rollout/actions_mean': -0.16828979731867244,\n",
       "  'rollout/actions_std': 0.6767595489619068,\n",
       "  'rollout/episode_steps': 200.0,\n",
       "  'rollout/episodes': 15.0,\n",
       "  'rollout/return': -1386.7554373937082,\n",
       "  'rollout/return_history': -1386.7554373937082,\n",
       "  'total/duration': 19.448482751846313,\n",
       "  'total/episodes': 15.0,\n",
       "  'total/epochs': 3,\n",
       "  'total/steps': 3000,\n",
       "  'total/steps_per_second': 154.25367820609037,\n",
       "  'train/loss_actor': 78.67854629516602,\n",
       "  'train/loss_critic': 17.882920062541963,\n",
       "  'train/param_noise_distance': 0.24808303147554397},\n",
       " {'eval/Q': -94.15542167663574,\n",
       "  'eval/episodes': 1.0,\n",
       "  'eval/return': -837.0125186372121,\n",
       "  'eval/return_history': -762.9075084860336,\n",
       "  'obs_rms_mean': 0.29937800765037537,\n",
       "  'obs_rms_std': 1.9816854000091553,\n",
       "  'param_noise_stddev': 0.030804326970036475,\n",
       "  'reference_Q_mean': -102.123779296875,\n",
       "  'reference_Q_std': 25.877840042114258,\n",
       "  'reference_action_mean': -0.0002799779176712036,\n",
       "  'reference_action_std': 0.9958096742630005,\n",
       "  'reference_actor_Q_mean': -101.20693969726562,\n",
       "  'reference_actor_Q_std': 25.823453903198242,\n",
       "  'reference_perturbed_action_mean': 0.05252983421087265,\n",
       "  'reference_perturbed_action_std': 0.9358221292495728,\n",
       "  'rollout/Q_mean': -47.992138374991875,\n",
       "  'rollout/actions_mean': 0.014424996869493042,\n",
       "  'rollout/actions_std': 0.7728570046821269,\n",
       "  'rollout/episode_steps': 200.0,\n",
       "  'rollout/episodes': 20.0,\n",
       "  'rollout/return': -1419.7294965118895,\n",
       "  'rollout/return_history': -1419.7294965118895,\n",
       "  'total/duration': 26.020325660705566,\n",
       "  'total/episodes': 20.0,\n",
       "  'total/epochs': 4,\n",
       "  'total/steps': 4000,\n",
       "  'total/steps_per_second': 153.7259776129772,\n",
       "  'train/loss_actor': 100.2701351928711,\n",
       "  'train/loss_critic': 51.49177485466004,\n",
       "  'train/param_noise_distance': 0.259655327051878},\n",
       " {'eval/Q': -121.1070693206787,\n",
       "  'eval/episodes': 1.0,\n",
       "  'eval/return': -740.7684019844235,\n",
       "  'eval/return_history': -773.9242964241153,\n",
       "  'obs_rms_mean': 0.5999366044998169,\n",
       "  'obs_rms_std': 2.0432751178741455,\n",
       "  'param_noise_stddev': 0.018730226766195082,\n",
       "  'reference_Q_mean': -126.0046615600586,\n",
       "  'reference_Q_std': 22.44339370727539,\n",
       "  'reference_action_mean': -0.17028377950191498,\n",
       "  'reference_action_std': 0.9496659636497498,\n",
       "  'reference_actor_Q_mean': -124.21260070800781,\n",
       "  'reference_actor_Q_std': 22.16046905517578,\n",
       "  'reference_perturbed_action_mean': -0.03716963902115822,\n",
       "  'reference_perturbed_action_std': 0.9660898447036743,\n",
       "  'rollout/Q_mean': -59.596225844723115,\n",
       "  'rollout/actions_mean': 0.17960973024505655,\n",
       "  'rollout/actions_std': 0.8004951636250242,\n",
       "  'rollout/episode_steps': 200.0,\n",
       "  'rollout/episodes': 25.0,\n",
       "  'rollout/return': -1441.8464421152394,\n",
       "  'rollout/return_history': -1441.8464421152394,\n",
       "  'total/duration': 32.34839844703674,\n",
       "  'total/episodes': 25.0,\n",
       "  'total/epochs': 5,\n",
       "  'total/steps': 5000,\n",
       "  'total/steps_per_second': 154.56715757308294,\n",
       "  'train/loss_actor': 123.06817367553711,\n",
       "  'train/loss_critic': 108.14434212684631,\n",
       "  'train/param_noise_distance': 0.24375277906656265},\n",
       " {'eval/Q': -95.8104201889038,\n",
       "  'eval/episodes': 1.0,\n",
       "  'eval/return': -256.7933409061402,\n",
       "  'eval/return_history': -689.9960224539902,\n",
       "  'obs_rms_mean': 0.47310689091682434,\n",
       "  'obs_rms_std': 2.071225643157959,\n",
       "  'param_noise_stddev': 0.020689822899908242,\n",
       "  'reference_Q_mean': -144.62521362304688,\n",
       "  'reference_Q_std': 20.94235610961914,\n",
       "  'reference_action_mean': -0.4231055974960327,\n",
       "  'reference_action_std': 0.875444769859314,\n",
       "  'reference_actor_Q_mean': -141.98428344726562,\n",
       "  'reference_actor_Q_std': 21.38534927368164,\n",
       "  'reference_perturbed_action_mean': -0.3054163455963135,\n",
       "  'reference_perturbed_action_std': 0.8090500831604004,\n",
       "  'rollout/Q_mean': -67.98662479826322,\n",
       "  'rollout/actions_mean': 0.15045589409584256,\n",
       "  'rollout/actions_std': 0.8170311825820284,\n",
       "  'rollout/episode_steps': 200.0,\n",
       "  'rollout/episodes': 30.0,\n",
       "  'rollout/return': -1370.7477505274812,\n",
       "  'rollout/return_history': -1370.7477505274812,\n",
       "  'total/duration': 38.147499561309814,\n",
       "  'total/episodes': 30.0,\n",
       "  'total/epochs': 6,\n",
       "  'total/steps': 6000,\n",
       "  'total/steps_per_second': 157.2842275116075,\n",
       "  'train/loss_actor': 134.2446130371094,\n",
       "  'train/loss_critic': 98.03397886276245,\n",
       "  'train/param_noise_distance': 0.24613842971622943},\n",
       " {'eval/Q': -99.6120012664795,\n",
       "  'eval/episodes': 1.0,\n",
       "  'eval/return': -265.3093047442351,\n",
       "  'eval/return_history': -622.282344814963,\n",
       "  'obs_rms_mean': 0.3668689727783203,\n",
       "  'obs_rms_std': 2.0239906311035156,\n",
       "  'param_noise_stddev': 0.0136225708197137,\n",
       "  'reference_Q_mean': -158.46890258789062,\n",
       "  'reference_Q_std': 22.57649040222168,\n",
       "  'reference_action_mean': -0.275699257850647,\n",
       "  'reference_action_std': 0.9470028281211853,\n",
       "  'reference_actor_Q_mean': -156.46803283691406,\n",
       "  'reference_actor_Q_std': 23.03864860534668,\n",
       "  'reference_perturbed_action_mean': -0.025868535041809082,\n",
       "  'reference_perturbed_action_std': 0.8791807889938354,\n",
       "  'rollout/Q_mean': -71.95401063738986,\n",
       "  'rollout/actions_mean': 0.15642092197824137,\n",
       "  'rollout/actions_std': 0.8166252109115102,\n",
       "  'rollout/episode_steps': 200.0,\n",
       "  'rollout/episodes': 35.0,\n",
       "  'rollout/return': -1256.0394113739735,\n",
       "  'rollout/return_history': -1256.0394113739735,\n",
       "  'total/duration': 44.43836522102356,\n",
       "  'total/episodes': 35.0,\n",
       "  'total/epochs': 7,\n",
       "  'total/steps': 7000,\n",
       "  'total/steps_per_second': 157.5215461951408,\n",
       "  'train/loss_actor': 142.1440542602539,\n",
       "  'train/loss_critic': 157.88387833595277,\n",
       "  'train/param_noise_distance': 0.23806516967713834}]"
      ]
     },
     "execution_count": 4,
     "metadata": {},
     "output_type": "execute_result"
    }
   ],
   "source": [
    "m_contents"
   ]
  },
  {
   "cell_type": "code",
   "execution_count": null,
   "metadata": {
    "collapsed": true
   },
   "outputs": [],
   "source": []
  },
  {
   "cell_type": "code",
   "execution_count": 5,
   "metadata": {
    "collapsed": true
   },
   "outputs": [],
   "source": [
    "dir='/home/daniel/Desktop/NewHome_test'"
   ]
  },
  {
   "cell_type": "code",
   "execution_count": 9,
   "metadata": {
    "collapsed": true
   },
   "outputs": [],
   "source": [
    "from baselines import logger"
   ]
  },
  {
   "cell_type": "code",
   "execution_count": 6,
   "metadata": {},
   "outputs": [
    {
     "name": "stdout",
     "output_type": "stream",
     "text": [
      "Reset logger\n",
      "Logging to /home/daniel/Desktop/NewHome_test\n"
     ]
    }
   ],
   "source": [
    "logger.reset()\n",
    "logger.configure(dir)"
   ]
  },
  {
   "cell_type": "code",
   "execution_count": 7,
   "metadata": {},
   "outputs": [
    {
     "data": {
      "text/plain": [
       "'/home/daniel/Desktop/NewHome_test'"
      ]
     },
     "execution_count": 7,
     "metadata": {},
     "output_type": "execute_result"
    }
   ],
   "source": [
    "logger.get_dir()"
   ]
  },
  {
   "cell_type": "code",
   "execution_count": 8,
   "metadata": {},
   "outputs": [
    {
     "name": "stdout",
     "output_type": "stream",
     "text": [
      "---------------------------------------\n",
      "| eval/Q                  | -27.8     |\n",
      "| eval/episodes           | 1         |\n",
      "| eval/return             | -771      |\n",
      "| eval/return_history     | -741      |\n",
      "| obs_rms_mean            | 0.142     |\n",
      "| obs_rms_std             | 1.5       |\n",
      "| param_noise_stddev      | 0.122     |\n",
      "| reference_Q_mean        | -22.3     |\n",
      "| reference_Q_std         | 7.71      |\n",
      "| reference_action_mean   | 0.865     |\n",
      "| reference_action_std    | 0.0766    |\n",
      "| reference_actor_Q_mean  | -22.3     |\n",
      "| reference_actor_Q_std   | 7.68      |\n",
      "| reference_perturbed_... | 0.282     |\n",
      "| rollout/Q_mean          | -10.5     |\n",
      "| rollout/actions_mean    | 0.331     |\n",
      "| rollout/actions_std     | 0.482     |\n",
      "| rollout/episode_steps   | 200       |\n",
      "| rollout/episodes        | 5         |\n",
      "| rollout/return          | -1.35e+03 |\n",
      "| rollout/return_history  | -1.35e+03 |\n",
      "| total/duration          | 6.17      |\n",
      "| total/episodes          | 5         |\n",
      "| total/epochs            | 1         |\n",
      "| total/steps             | 1000      |\n",
      "| total/steps_per_second  | 162       |\n",
      "| train/loss_actor        | 22.4      |\n",
      "| train/loss_critic       | 5.29      |\n",
      "| train/param_noise_di... | 0.276     |\n",
      "---------------------------------------\n",
      "\n",
      "---------------------------------------\n",
      "| eval/Q                  | -57.5     |\n",
      "| eval/episodes           | 1         |\n",
      "| eval/return             | -714      |\n",
      "| eval/return_history     | -752      |\n",
      "| obs_rms_mean            | -0.0451   |\n",
      "| obs_rms_std             | 1.68      |\n",
      "| param_noise_stddev      | 0.122     |\n",
      "| reference_Q_mean        | -48.4     |\n",
      "| reference_Q_std         | 17.4      |\n",
      "| reference_action_mean   | -0.965    |\n",
      "| reference_action_std    | 0.00623   |\n",
      "| reference_actor_Q_mean  | -48.3     |\n",
      "| reference_actor_Q_std   | 17.5      |\n",
      "| reference_perturbed_... | 0.0141    |\n",
      "| rollout/Q_mean          | -23.6     |\n",
      "| rollout/actions_mean    | 0.0132    |\n",
      "| rollout/actions_std     | 0.665     |\n",
      "| rollout/episode_steps   | 200       |\n",
      "| rollout/episodes        | 10        |\n",
      "| rollout/return          | -1.43e+03 |\n",
      "| rollout/return_history  | -1.43e+03 |\n",
      "| total/duration          | 12.7      |\n",
      "| total/episodes          | 10        |\n",
      "| total/epochs            | 2         |\n",
      "| total/steps             | 2000      |\n",
      "| total/steps_per_second  | 157       |\n",
      "| train/loss_actor        | 51.4      |\n",
      "| train/loss_critic       | 10.8      |\n",
      "| train/param_noise_di... | 0.347     |\n",
      "---------------------------------------\n",
      "\n",
      "---------------------------------------\n",
      "| eval/Q                  | -72.7     |\n",
      "| eval/episodes           | 1         |\n",
      "| eval/return             | -832      |\n",
      "| eval/return_history     | -752      |\n",
      "| obs_rms_mean            | -0.144    |\n",
      "| obs_rms_std             | 1.82      |\n",
      "| param_noise_stddev      | 0.0517    |\n",
      "| reference_Q_mean        | -77.9     |\n",
      "| reference_Q_std         | 21.8      |\n",
      "| reference_action_mean   | 0.52      |\n",
      "| reference_action_std    | 0.829     |\n",
      "| reference_actor_Q_mean  | -77.3     |\n",
      "| reference_actor_Q_std   | 21.9      |\n",
      "| reference_perturbed_... | 0.745     |\n",
      "| rollout/Q_mean          | -35.7     |\n",
      "| rollout/actions_mean    | -0.168    |\n",
      "| rollout/actions_std     | 0.677     |\n",
      "| rollout/episode_steps   | 200       |\n",
      "| rollout/episodes        | 15        |\n",
      "| rollout/return          | -1.39e+03 |\n",
      "| rollout/return_history  | -1.39e+03 |\n",
      "| total/duration          | 19.4      |\n",
      "| total/episodes          | 15        |\n",
      "| total/epochs            | 3         |\n",
      "| total/steps             | 3000      |\n",
      "| total/steps_per_second  | 154       |\n",
      "| train/loss_actor        | 78.7      |\n",
      "| train/loss_critic       | 17.9      |\n",
      "| train/param_noise_di... | 0.248     |\n",
      "---------------------------------------\n",
      "\n",
      "---------------------------------------\n",
      "| eval/Q                  | -94.2     |\n",
      "| eval/episodes           | 1         |\n",
      "| eval/return             | -837      |\n",
      "| eval/return_history     | -763      |\n",
      "| obs_rms_mean            | 0.299     |\n",
      "| obs_rms_std             | 1.98      |\n",
      "| param_noise_stddev      | 0.0308    |\n",
      "| reference_Q_mean        | -102      |\n",
      "| reference_Q_std         | 25.9      |\n",
      "| reference_action_mean   | -0.00028  |\n",
      "| reference_action_std    | 0.996     |\n",
      "| reference_actor_Q_mean  | -101      |\n",
      "| reference_actor_Q_std   | 25.8      |\n",
      "| reference_perturbed_... | 0.936     |\n",
      "| rollout/Q_mean          | -48       |\n",
      "| rollout/actions_mean    | 0.0144    |\n",
      "| rollout/actions_std     | 0.773     |\n",
      "| rollout/episode_steps   | 200       |\n",
      "| rollout/episodes        | 20        |\n",
      "| rollout/return          | -1.42e+03 |\n",
      "| rollout/return_history  | -1.42e+03 |\n",
      "| total/duration          | 26        |\n",
      "| total/episodes          | 20        |\n",
      "| total/epochs            | 4         |\n",
      "| total/steps             | 4000      |\n",
      "| total/steps_per_second  | 154       |\n",
      "| train/loss_actor        | 100       |\n",
      "| train/loss_critic       | 51.5      |\n",
      "| train/param_noise_di... | 0.26      |\n",
      "---------------------------------------\n",
      "\n",
      "---------------------------------------\n",
      "| eval/Q                  | -121      |\n",
      "| eval/episodes           | 1         |\n",
      "| eval/return             | -741      |\n",
      "| eval/return_history     | -774      |\n",
      "| obs_rms_mean            | 0.6       |\n",
      "| obs_rms_std             | 2.04      |\n",
      "| param_noise_stddev      | 0.0187    |\n",
      "| reference_Q_mean        | -126      |\n",
      "| reference_Q_std         | 22.4      |\n",
      "| reference_action_mean   | -0.17     |\n",
      "| reference_action_std    | 0.95      |\n",
      "| reference_actor_Q_mean  | -124      |\n",
      "| reference_actor_Q_std   | 22.2      |\n",
      "| reference_perturbed_... | 0.966     |\n",
      "| rollout/Q_mean          | -59.6     |\n",
      "| rollout/actions_mean    | 0.18      |\n",
      "| rollout/actions_std     | 0.8       |\n",
      "| rollout/episode_steps   | 200       |\n",
      "| rollout/episodes        | 25        |\n",
      "| rollout/return          | -1.44e+03 |\n",
      "| rollout/return_history  | -1.44e+03 |\n",
      "| total/duration          | 32.3      |\n",
      "| total/episodes          | 25        |\n",
      "| total/epochs            | 5         |\n",
      "| total/steps             | 5000      |\n",
      "| total/steps_per_second  | 155       |\n",
      "| train/loss_actor        | 123       |\n",
      "| train/loss_critic       | 108       |\n",
      "| train/param_noise_di... | 0.244     |\n",
      "---------------------------------------\n",
      "\n",
      "---------------------------------------\n",
      "| eval/Q                  | -95.8     |\n",
      "| eval/episodes           | 1         |\n",
      "| eval/return             | -257      |\n",
      "| eval/return_history     | -690      |\n",
      "| obs_rms_mean            | 0.473     |\n",
      "| obs_rms_std             | 2.07      |\n",
      "| param_noise_stddev      | 0.0207    |\n",
      "| reference_Q_mean        | -145      |\n",
      "| reference_Q_std         | 20.9      |\n",
      "| reference_action_mean   | -0.423    |\n",
      "| reference_action_std    | 0.875     |\n",
      "| reference_actor_Q_mean  | -142      |\n",
      "| reference_actor_Q_std   | 21.4      |\n",
      "| reference_perturbed_... | 0.809     |\n",
      "| rollout/Q_mean          | -68       |\n",
      "| rollout/actions_mean    | 0.15      |\n",
      "| rollout/actions_std     | 0.817     |\n",
      "| rollout/episode_steps   | 200       |\n",
      "| rollout/episodes        | 30        |\n",
      "| rollout/return          | -1.37e+03 |\n",
      "| rollout/return_history  | -1.37e+03 |\n",
      "| total/duration          | 38.1      |\n",
      "| total/episodes          | 30        |\n",
      "| total/epochs            | 6         |\n",
      "| total/steps             | 6000      |\n",
      "| total/steps_per_second  | 157       |\n",
      "| train/loss_actor        | 134       |\n",
      "| train/loss_critic       | 98        |\n",
      "| train/param_noise_di... | 0.246     |\n",
      "---------------------------------------\n",
      "\n",
      "---------------------------------------\n",
      "| eval/Q                  | -99.6     |\n",
      "| eval/episodes           | 1         |\n",
      "| eval/return             | -265      |\n",
      "| eval/return_history     | -622      |\n",
      "| obs_rms_mean            | 0.367     |\n",
      "| obs_rms_std             | 2.02      |\n",
      "| param_noise_stddev      | 0.0136    |\n",
      "| reference_Q_mean        | -158      |\n",
      "| reference_Q_std         | 22.6      |\n",
      "| reference_action_mean   | -0.276    |\n",
      "| reference_action_std    | 0.947     |\n",
      "| reference_actor_Q_mean  | -156      |\n",
      "| reference_actor_Q_std   | 23        |\n",
      "| reference_perturbed_... | 0.879     |\n",
      "| rollout/Q_mean          | -72       |\n",
      "| rollout/actions_mean    | 0.156     |\n",
      "| rollout/actions_std     | 0.817     |\n",
      "| rollout/episode_steps   | 200       |\n",
      "| rollout/episodes        | 35        |\n",
      "| rollout/return          | -1.26e+03 |\n",
      "| rollout/return_history  | -1.26e+03 |\n",
      "| total/duration          | 44.4      |\n",
      "| total/episodes          | 35        |\n",
      "| total/epochs            | 7         |\n",
      "| total/steps             | 7000      |\n",
      "| total/steps_per_second  | 158       |\n",
      "| train/loss_actor        | 142       |\n",
      "| train/loss_critic       | 158       |\n",
      "| train/param_noise_di... | 0.238     |\n",
      "---------------------------------------\n"
     ]
    },
    {
     "name": "stdout",
     "output_type": "stream",
     "text": [
      "\n",
      "Writing progress in: /home/daniel/Desktop/NewHome_test\n"
     ]
    }
   ],
   "source": [
    "logger.write_progress(m_contents)"
   ]
  },
  {
   "cell_type": "code",
   "execution_count": null,
   "metadata": {
    "collapsed": true
   },
   "outputs": [],
   "source": []
  },
  {
   "cell_type": "code",
   "execution_count": 88,
   "metadata": {
    "collapsed": true
   },
   "outputs": [],
   "source": [
    "logger.Logger.CURRENT.close()"
   ]
  },
  {
   "cell_type": "code",
   "execution_count": null,
   "metadata": {
    "collapsed": true
   },
   "outputs": [],
   "source": []
  },
  {
   "cell_type": "code",
   "execution_count": null,
   "metadata": {
    "collapsed": true
   },
   "outputs": [],
   "source": []
  },
  {
   "cell_type": "code",
   "execution_count": null,
   "metadata": {
    "collapsed": true
   },
   "outputs": [],
   "source": []
  },
  {
   "cell_type": "code",
   "execution_count": null,
   "metadata": {
    "collapsed": true
   },
   "outputs": [],
   "source": []
  },
  {
   "cell_type": "code",
   "execution_count": null,
   "metadata": {
    "collapsed": true
   },
   "outputs": [],
   "source": [
    "for key in sorted(combined_stats.keys()):\n",
    "                logger.record_tabular(key, combined_stats[key])\n",
    "            logger.dump_tabular()\n",
    "            logger.info('')"
   ]
  },
  {
   "cell_type": "code",
   "execution_count": null,
   "metadata": {
    "collapsed": true
   },
   "outputs": [],
   "source": []
  },
  {
   "cell_type": "code",
   "execution_count": null,
   "metadata": {
    "collapsed": true
   },
   "outputs": [],
   "source": []
  },
  {
   "cell_type": "code",
   "execution_count": null,
   "metadata": {
    "collapsed": true
   },
   "outputs": [],
   "source": []
  },
  {
   "cell_type": "code",
   "execution_count": null,
   "metadata": {
    "collapsed": true
   },
   "outputs": [],
   "source": []
  },
  {
   "cell_type": "code",
   "execution_count": null,
   "metadata": {
    "collapsed": true
   },
   "outputs": [],
   "source": []
  },
  {
   "cell_type": "code",
   "execution_count": null,
   "metadata": {
    "collapsed": true
   },
   "outputs": [],
   "source": []
  }
 ],
 "metadata": {
  "kernelspec": {
   "display_name": "Python [conda env:NIPS_FINAL]",
   "language": "python",
   "name": "conda-env-NIPS_FINAL-py"
  },
  "language_info": {
   "codemirror_mode": {
    "name": "ipython",
    "version": 3
   },
   "file_extension": ".py",
   "mimetype": "text/x-python",
   "name": "python",
   "nbconvert_exporter": "python",
   "pygments_lexer": "ipython3",
   "version": "3.6.2"
  }
 },
 "nbformat": 4,
 "nbformat_minor": 2
}
