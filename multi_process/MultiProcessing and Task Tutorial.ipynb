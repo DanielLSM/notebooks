{
 "cells": [
  {
   "cell_type": "code",
   "execution_count": 2,
   "metadata": {
    "collapsed": true
   },
   "outputs": [],
   "source": [
    "import time\n",
    "import random"
   ]
  },
  {
   "cell_type": "code",
   "execution_count": 3,
   "metadata": {
    "collapsed": true
   },
   "outputs": [],
   "source": [
    "def mul(a, b):\n",
    "    time.sleep(0.5*random.random())\n",
    "    return a * b\n",
    "\n",
    "def plus(a, b):\n",
    "    time.sleep(0.5*random.random())\n",
    "    return a + b"
   ]
  },
  {
   "cell_type": "code",
   "execution_count": 4,
   "metadata": {
    "collapsed": true
   },
   "outputs": [],
   "source": [
    "    NUMBER_OF_PROCESSES = 4\n",
    "    TASKS1 = [(mul, (i, 7)) for i in range(20)]\n",
    "    TASKS2 = [(plus, (i, 8)) for i in range(10)]"
   ]
  },
  {
   "cell_type": "code",
   "execution_count": 5,
   "metadata": {},
   "outputs": [
    {
     "data": {
      "text/plain": [
       "[(<function __main__.mul>, (0, 7)),\n",
       " (<function __main__.mul>, (1, 7)),\n",
       " (<function __main__.mul>, (2, 7)),\n",
       " (<function __main__.mul>, (3, 7)),\n",
       " (<function __main__.mul>, (4, 7)),\n",
       " (<function __main__.mul>, (5, 7)),\n",
       " (<function __main__.mul>, (6, 7)),\n",
       " (<function __main__.mul>, (7, 7)),\n",
       " (<function __main__.mul>, (8, 7)),\n",
       " (<function __main__.mul>, (9, 7)),\n",
       " (<function __main__.mul>, (10, 7)),\n",
       " (<function __main__.mul>, (11, 7)),\n",
       " (<function __main__.mul>, (12, 7)),\n",
       " (<function __main__.mul>, (13, 7)),\n",
       " (<function __main__.mul>, (14, 7)),\n",
       " (<function __main__.mul>, (15, 7)),\n",
       " (<function __main__.mul>, (16, 7)),\n",
       " (<function __main__.mul>, (17, 7)),\n",
       " (<function __main__.mul>, (18, 7)),\n",
       " (<function __main__.mul>, (19, 7))]"
      ]
     },
     "execution_count": 5,
     "metadata": {},
     "output_type": "execute_result"
    }
   ],
   "source": [
    "TASKS1"
   ]
  }
 ],
 "metadata": {
  "kernelspec": {
   "display_name": "Python [conda env:NIPS_CLOUD]",
   "language": "python",
   "name": "conda-env-NIPS_CLOUD-py"
  },
  "language_info": {
   "codemirror_mode": {
    "name": "ipython",
    "version": 3
   },
   "file_extension": ".py",
   "mimetype": "text/x-python",
   "name": "python",
   "nbconvert_exporter": "python",
   "pygments_lexer": "ipython3",
   "version": "3.6.2"
  }
 },
 "nbformat": 4,
 "nbformat_minor": 2
}
