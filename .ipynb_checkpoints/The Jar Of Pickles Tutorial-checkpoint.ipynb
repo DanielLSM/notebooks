{
 "cells": [
  {
   "cell_type": "code",
   "execution_count": 107,
   "metadata": {
    "collapsed": true
   },
   "outputs": [],
   "source": [
    "from baselines.common.misc_util import *\n",
    "from collections import OrderedDict"
   ]
  },
  {
   "cell_type": "code",
   "execution_count": 8,
   "metadata": {
    "collapsed": true
   },
   "outputs": [],
   "source": [
    "path='/home/danielpc/Desktop/Pickle_Jar.pkl'"
   ]
  },
  {
   "cell_type": "code",
   "execution_count": 70,
   "metadata": {
    "collapsed": true
   },
   "outputs": [],
   "source": [
    "dict_pickle = OrderedDict()\n",
    "dict_pickle2 = OrderedDict()\n",
    "dict_pickle3 = OrderedDict()\n",
    "\n",
    "\n",
    "dict_pickle = {'name' : 'daniel', 'hehe' : 4.0 }\n",
    "dict_pickle2 = {'name' :'Peter Pan', 'hihi' : 8.9}\n",
    "dict_pickle3 = {'name' :'Luis', 'huhu' : 456.7}\n",
    "dict_pickle4 = {'name' :'Neymar', 'haha' : 478.67}"
   ]
  },
  {
   "cell_type": "code",
   "execution_count": 71,
   "metadata": {},
   "outputs": [],
   "source": [
    "haha = [dict_pickle, dict_pickle2, dict_pickle3, dict_pickle4]"
   ]
  },
  {
   "cell_type": "code",
   "execution_count": 72,
   "metadata": {},
   "outputs": [
    {
     "data": {
      "text/plain": [
       "[{'hehe': 4.0, 'name': 'daniel'},\n",
       " {'hihi': 8.9, 'name': 'Peter Pan'},\n",
       " {'huhu': 456.7, 'name': 'Luis'},\n",
       " {'haha': 478.67, 'name': 'Neymar'}]"
      ]
     },
     "execution_count": 72,
     "metadata": {},
     "output_type": "execute_result"
    }
   ],
   "source": [
    "haha"
   ]
  },
  {
   "cell_type": "code",
   "execution_count": 67,
   "metadata": {
    "collapsed": true
   },
   "outputs": [],
   "source": [
    "relatively_safe_pickle_dump(haha,path,False)"
   ]
  },
  {
   "cell_type": "code",
   "execution_count": 68,
   "metadata": {
    "collapsed": true
   },
   "outputs": [],
   "source": [
    "hehe=pickle_load(path)"
   ]
  },
  {
   "cell_type": "code",
   "execution_count": 69,
   "metadata": {},
   "outputs": [
    {
     "data": {
      "text/plain": [
       "[{'hehe': 4.0, 'name': 'daniel'},\n",
       " {'hihi': 8.9, 'name': 'Peter Pan'},\n",
       " {'huhu': 456.7, 'name': 'Luis'}]"
      ]
     },
     "execution_count": 69,
     "metadata": {},
     "output_type": "execute_result"
    }
   ],
   "source": [
    "hehe"
   ]
  },
  {
   "cell_type": "code",
   "execution_count": 73,
   "metadata": {
    "collapsed": true
   },
   "outputs": [],
   "source": [
    "a= [1,2,3]\n",
    "b = ['a','b','c']\n"
   ]
  },
  {
   "cell_type": "code",
   "execution_count": 84,
   "metadata": {},
   "outputs": [
    {
     "data": {
      "text/plain": [
       "{1: 'a', 2: 'b', 3: 'c'}"
      ]
     },
     "execution_count": 84,
     "metadata": {},
     "output_type": "execute_result"
    }
   ],
   "source": [
    "stats = dict(zip(a,b))\n",
    "stats"
   ]
  },
  {
   "cell_type": "code",
   "execution_count": 91,
   "metadata": {
    "collapsed": true
   },
   "outputs": [],
   "source": [
    "mimi = {4 : 3.5 , 'whitch' : 'Really' , 'hey' : 'Really'}"
   ]
  },
  {
   "cell_type": "code",
   "execution_count": 92,
   "metadata": {},
   "outputs": [
    {
     "data": {
      "text/plain": [
       "{1: 'a', 2: 'b', 3: 'c', 4: 3.5, 'whitch': 'Really', 'hey': 'Really'}"
      ]
     },
     "execution_count": 92,
     "metadata": {},
     "output_type": "execute_result"
    }
   ],
   "source": [
    "jj = {**stats, **mimi} \n",
    "jj"
   ]
  },
  {
   "cell_type": "code",
   "execution_count": 93,
   "metadata": {},
   "outputs": [
    {
     "data": {
      "text/plain": [
       "{1, 2, 3, 4, 'whitch', 'hey'}"
      ]
     },
     "execution_count": 93,
     "metadata": {},
     "output_type": "execute_result"
    }
   ],
   "source": [
    "gg  = {*stats, *mimi}\n",
    "gg"
   ]
  },
  {
   "cell_type": "code",
   "execution_count": 100,
   "metadata": {},
   "outputs": [],
   "source": [
    "inteligent = [6,9]"
   ]
  },
  {
   "cell_type": "code",
   "execution_count": 102,
   "metadata": {
    "collapsed": true
   },
   "outputs": [],
   "source": [
    "combined_stats = {}"
   ]
  },
  {
   "cell_type": "code",
   "execution_count": 103,
   "metadata": {},
   "outputs": [],
   "source": [
    "combined_stats['rollout/return'] = 5\n",
    "combined_stats['rollout/return_history'] = 6          \n",
    "combined_stats['rollout/episode_steps'] = 6\n",
    "combined_stats['rollout/episodes'] = 8\n",
    "combined_stats['rollout/actions_mean'] = 89 \n",
    "combined_stats['rollout/actions_std'] = 78\n",
    "combined_stats['rollout/Q_mean'] = 0  \n",
    "\n",
    "combined_stats['train/loss_actor'] = 89 \n",
    "combined_stats['train/loss_critic'] = 0\n",
    "combined_stats['train/param_noise_distance'] = 2\n",
    "\n",
    "combined_stats['eval/return'] = 4\n",
    "combined_stats['eval/return_history'] = 5\n",
    "combined_stats['eval/Q'] = 3\n",
    "combined_stats['eval/episodes'] = 11 \n",
    "\n"
   ]
  },
  {
   "cell_type": "code",
   "execution_count": 104,
   "metadata": {},
   "outputs": [
    {
     "data": {
      "text/plain": [
       "{'eval/Q': 3,\n",
       " 'eval/episodes': 11,\n",
       " 'eval/return': 4,\n",
       " 'eval/return_history': 5,\n",
       " 'rollout/Q_mean': 0,\n",
       " 'rollout/actions_mean': 89,\n",
       " 'rollout/actions_std': 78,\n",
       " 'rollout/episode_steps': 6,\n",
       " 'rollout/episodes': 8,\n",
       " 'rollout/return': 5,\n",
       " 'rollout/return_history': 6,\n",
       " 'train/loss_actor': 89,\n",
       " 'train/loss_critic': 0,\n",
       " 'train/param_noise_distance': 2}"
      ]
     },
     "execution_count": 104,
     "metadata": {},
     "output_type": "execute_result"
    }
   ],
   "source": [
    "combined_stats"
   ]
  },
  {
   "cell_type": "code",
   "execution_count": 106,
   "metadata": {},
   "outputs": [
    {
     "data": {
      "text/plain": [
       "dict_items([('rollout/return', 5), ('rollout/return_history', 6), ('rollout/episode_steps', 6), ('rollout/episodes', 8), ('rollout/actions_mean', 89), ('rollout/actions_std', 78), ('rollout/Q_mean', 0), ('train/loss_actor', 89), ('train/loss_critic', 0), ('train/param_noise_distance', 2), ('eval/return', 4), ('eval/return_history', 5), ('eval/Q', 3), ('eval/episodes', 11)])"
      ]
     },
     "execution_count": 106,
     "metadata": {},
     "output_type": "execute_result"
    }
   ],
   "source": [
    "combined_stats.items()"
   ]
  },
  {
   "cell_type": "code",
   "execution_count": null,
   "metadata": {
    "collapsed": true
   },
   "outputs": [],
   "source": []
  },
  {
   "cell_type": "code",
   "execution_count": null,
   "metadata": {
    "collapsed": true
   },
   "outputs": [],
   "source": []
  },
  {
   "cell_type": "code",
   "execution_count": null,
   "metadata": {
    "collapsed": true
   },
   "outputs": [],
   "source": []
  }
 ],
 "metadata": {
  "kernelspec": {
   "display_name": "Python [conda env:gym_lab]",
   "language": "python",
   "name": "conda-env-gym_lab-py"
  },
  "language_info": {
   "codemirror_mode": {
    "name": "ipython",
    "version": 3
   },
   "file_extension": ".py",
   "mimetype": "text/x-python",
   "name": "python",
   "nbconvert_exporter": "python",
   "pygments_lexer": "ipython3",
   "version": "3.6.2"
  }
 },
 "nbformat": 4,
 "nbformat_minor": 2
}
