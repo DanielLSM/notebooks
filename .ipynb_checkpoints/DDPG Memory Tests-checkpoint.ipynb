{
 "cells": [
  {
   "cell_type": "code",
   "execution_count": 2,
   "metadata": {
    "collapsed": true
   },
   "outputs": [],
   "source": [
    "import baselines.ddpg\n",
    "import numpy as np\n",
    "import sys"
   ]
  },
  {
   "cell_type": "code",
   "execution_count": 8,
   "metadata": {},
   "outputs": [
    {
     "name": "stdout",
     "output_type": "stream",
     "text": [
      "['', '/home/daniel/gym-gazebo/gym_gazebo/envs/installation/catkin_ws/devel/lib/python2.7/dist-packages', '/opt/ros/kinetic/lib/python2.7/dist-packages', '/home/daniel/anaconda3/lib/python36.zip', '/home/daniel/anaconda3/lib/python3.6', '/home/daniel/anaconda3/lib/python3.6/lib-dynload', '/home/daniel/anaconda3/lib/python3.6/site-packages', '/home/daniel/anaconda3/lib/python3.6/site-packages/Mako-1.0.7-py3.6.egg', '/home/daniel/anaconda3/lib/python3.6/site-packages/Sphinx-1.5.6-py3.6.egg', '/home/daniel/anaconda3/lib/python3.6/site-packages/setuptools-27.2.0-py3.6.egg', '/home/daniel/anaconda3/lib/python3.6/site-packages/IPython/extensions', '/home/daniel/.ipython']\n"
     ]
    }
   ],
   "source": []
  }
 ],
 "metadata": {
  "kernelspec": {
   "display_name": "Python [conda env:NIPS2017]",
   "language": "python",
   "name": "conda-env-NIPS2017-py"
  },
  "language_info": {
   "codemirror_mode": {
    "name": "ipython",
    "version": 3
   },
   "file_extension": ".py",
   "mimetype": "text/x-python",
   "name": "python",
   "nbconvert_exporter": "python",
   "pygments_lexer": "ipython3",
   "version": "3.6.2"
  }
 },
 "nbformat": 4,
 "nbformat_minor": 2
}
